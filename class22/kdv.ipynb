{
 "cells": [
  {
   "cell_type": "markdown",
   "metadata": {
    "deletable": true,
    "editable": true
   },
   "source": [
    "# KdV Equation\n",
    "\n",
    "This notebook uses a C++ program to solve the KdV equation\n",
    "$$\n",
    "\\partial_t u + \\partial_{xxx} u - 6 u \\partial_{x} u = 0\n",
    "$$\n",
    "and then visualizes the results\n",
    "\n",
    "## Test and Visualize Results\n",
    "\n",
    "#### Load various modules and set defaults"
   ]
  },
  {
   "cell_type": "code",
   "execution_count": 1,
   "metadata": {
    "deletable": true,
    "editable": true
   },
   "outputs": [],
   "source": [
    "%matplotlib inline\n",
    "import matplotlib\n",
    "import matplotlib.pyplot as plt\n",
    "from matplotlib import animation\n",
    "import numpy as np\n",
    "import pandas as pd\n",
    "import seaborn as sns\n",
    "%config InlineBackend.figure_format = 'retina'\n",
    "matplotlib.rcParams['figure.figsize'] = (12, 6)\n",
    "matplotlib.rcParams['animation.html'] = 'html5'"
   ]
  },
  {
   "cell_type": "markdown",
   "metadata": {
    "deletable": true,
    "editable": true
   },
   "source": [
    "#### Run the kdv equation solver"
   ]
  },
  {
   "cell_type": "code",
   "execution_count": null,
   "metadata": {
    "deletable": true,
    "editable": true
   },
   "outputs": [
    {
     "name": "stdout",
     "output_type": "stream",
     "text": [
      "writing output 0\n",
      "writing output 1000\n",
      "writing output 2000\n",
      "writing output 3000\n",
      "writing output 4000\n",
      "writing output 5000\n",
      "writing output 6000\n",
      "writing output 7000\n",
      "writing output 8000\n",
      "writing output 9000\n",
      "writing output 10000\n",
      "writing output 11000\n",
      "writing output 12000\n",
      "writing output 13000\n",
      "writing output 14000\n",
      "writing output 15000\n",
      "writing output 16000\n",
      "writing output 17000\n",
      "writing output 18000\n",
      "writing output 19000\n",
      "writing output 20000\n",
      "writing output 21000\n",
      "writing output 22000\n",
      "writing output 23000\n",
      "writing output 24000\n",
      "writing output 25000\n",
      "writing output 26000\n",
      "writing output 27000\n",
      "writing output 28000\n",
      "writing output 29000\n",
      "writing output 30000\n",
      "writing output 31000\n",
      "writing output 32000\n",
      "writing output 33000\n",
      "writing output 34000\n",
      "writing output 35000\n",
      "writing output 36000\n",
      "writing output 37000\n",
      "writing output 38000\n",
      "writing output 39000\n",
      "writing output 40000\n",
      "writing output 41000\n",
      "writing output 42000\n",
      "writing output 43000\n",
      "writing output 44000\n",
      "writing output 45000\n",
      "writing output 46000\n",
      "writing output 47000\n",
      "writing output 48000\n",
      "writing output 49000\n",
      "writing output 50000\n",
      "writing output 51000\n",
      "writing output 52000\n",
      "writing output 53000\n",
      "writing output 54000\n",
      "writing output 55000\n",
      "writing output 56000\n",
      "writing output 57000\n",
      "writing output 58000\n"
     ]
    }
   ],
   "source": [
    "!cd build && ./kdv"
   ]
  },
  {
   "cell_type": "markdown",
   "metadata": {
    "deletable": true,
    "editable": true
   },
   "source": [
    "#### Plot the initial condition"
   ]
  },
  {
   "cell_type": "code",
   "execution_count": null,
   "metadata": {
    "collapsed": false,
    "deletable": true,
    "editable": true,
    "jupyter": {
     "outputs_hidden": false
    }
   },
   "outputs": [],
   "source": [
    "df = pd.read_csv(\"build/u-0-0.csv\", names=(\"x\", \"u\"))\n",
    "df.plot(x=\"x\", y=\"u\", style=\"o-\");"
   ]
  },
  {
   "cell_type": "code",
   "execution_count": null,
   "metadata": {
    "collapsed": false,
    "deletable": true,
    "editable": true,
    "jupyter": {
     "outputs_hidden": false
    }
   },
   "outputs": [],
   "source": [
    "fig, ax = plt.subplots(figsize=(12,6))\n",
    "\n",
    "ax.set_xlim(0, 2*np.pi)\n",
    "ax.set_ylim(-1.5, 1.5)\n",
    "\n",
    "line, = ax.plot([], [], lw=2)\n",
    "plt.close()\n"
   ]
  },
  {
   "cell_type": "code",
   "execution_count": null,
   "metadata": {
    "deletable": true,
    "editable": true
   },
   "outputs": [],
   "source": [
    "plot_every = 1000\n",
    "\n",
    "def init():\n",
    "    #line.set_data([], [])\n",
    "    return (line,)\n",
    "\n",
    "def animate(i):\n",
    "    df = pd.read_csv(\"build/u-{}-0.csv\".format(i*plot_every), names=(\"x\", \"u\"))\n",
    "    line.set_data(df[\"x\"], df[\"u\"])\n",
    "    return (line,)"
   ]
  },
  {
   "cell_type": "markdown",
   "metadata": {
    "deletable": true,
    "editable": true
   },
   "source": [
    "#### Show an animation of the time evolution of the solution"
   ]
  },
  {
   "cell_type": "code",
   "execution_count": null,
   "metadata": {
    "collapsed": false,
    "deletable": true,
    "editable": true,
    "jupyter": {
     "outputs_hidden": false
    }
   },
   "outputs": [],
   "source": [
    "animation.FuncAnimation(fig, animate, init_func=init,\n",
    "                        frames=100, interval=100, blit=True)"
   ]
  },
  {
   "cell_type": "code",
   "execution_count": null,
   "metadata": {},
   "outputs": [],
   "source": []
  }
 ],
 "metadata": {
  "kernelspec": {
   "display_name": "Python 3",
   "language": "python",
   "name": "python3"
  },
  "language_info": {
   "codemirror_mode": {
    "name": "ipython",
    "version": 3
   },
   "file_extension": ".py",
   "mimetype": "text/x-python",
   "name": "python",
   "nbconvert_exporter": "python",
   "pygments_lexer": "ipython3",
   "version": "3.7.9"
  }
 },
 "nbformat": 4,
 "nbformat_minor": 4
}
